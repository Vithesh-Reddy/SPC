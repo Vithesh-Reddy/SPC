{
 "cells": [
  {
   "cell_type": "code",
   "execution_count": 1,
   "metadata": {},
   "outputs": [],
   "source": [
    "# Do the necessary imports\n",
    "import pickle\n",
    "import pandas as pd"
   ]
  },
  {
   "cell_type": "code",
   "execution_count": 2,
   "metadata": {},
   "outputs": [],
   "source": [
    "# Required functions\n",
    "def save_dict_to_file(filename, data_dict):\n",
    "    with open(filename, 'wb') as f:\n",
    "        pickle.dump(data_dict, f)\n",
    "\n",
    "def load_dict_from_file(filename):\n",
    "    with open(filename, 'rb') as f:\n",
    "        loaded_dict = pickle.load(f)\n",
    "    return loaded_dict\n",
    "\n",
    "def print_data(data_dict):\n",
    "    ct = 1\n",
    "    for key in data_dict.keys():\n",
    "        print(ct, key + ':', data_dict[key])\n",
    "        ct += 1\n",
    "\n",
    "def print_count(data_dict):\n",
    "    total = 0\n",
    "    ct = 1\n",
    "    for key in data_dict.keys():\n",
    "        total += len(data_dict[key])\n",
    "        print(ct, key + ':', len(data_dict[key]))\n",
    "        ct += 1\n",
    "    return total\n",
    "\n",
    "def find_key_by_value(dictionary, search_value):\n",
    "    for key, value in dictionary.items():\n",
    "        if search_value in value:\n",
    "            return key\n",
    "    return None"
   ]
  },
  {
   "cell_type": "code",
   "execution_count": 3,
   "metadata": {},
   "outputs": [],
   "source": [
    "# EXAMPLE USAGE\n",
    "# Example dictionary mapping strings to lists of strings\n",
    "my_dict = {\n",
    "    'fruit': ['apple', 'banana', 'orange'],\n",
    "    'colors': ['red', 'green', 'blue'],\n",
    "}\n",
    "\n",
    "# Save the dictionary to a file (rewriting the file if it exists)\n",
    "save_dict_to_file('my_dict.pkl', my_dict)\n",
    "\n",
    "# Load the dictionary back from the file\n",
    "loaded_dict = load_dict_from_file('my_dict.pkl')"
   ]
  },
  {
   "cell_type": "code",
   "execution_count": 4,
   "metadata": {},
   "outputs": [],
   "source": [
    "# This is the beginning!\n",
    "\n",
    "# Maintain a dictionary of selected students company wise\n",
    "selected_students = {}\n",
    "\n",
    "# Rubrik\n",
    "selected_students['Rubrik'] = ['Pramod Rao Budramane', 'Mitansh Kayathwal']\n",
    "# Google\n",
    "selected_students['Google'] = ['Arya Marda', 'Atharva Joshi', 'Dhruv Mittal', 'Kommireddy Bhargav Srinivas', 'Manav Shah', 'Manuj Garg', 'Pratham Priyank Thakkar', 'Prisha', 'Rudransh Pratap Singh', 'Sreeram Reddy Vennam', 'survi saikiran']\n",
    "# APT\n",
    "selected_students['APT'] = ['Arnav Negi', 'Sarthak Bansal', 'Anushka Agrawal', 'Vyom Goyal', 'Jatin Agarwala']\n",
    "# Uber\n",
    "selected_students['Uber'] = ['Gokul Praneetha', 'Shreyas Revankar']\n",
    "# DeShaw\n",
    "selected_students['DeShaw'] = ['Rudransh Agarwal', 'Vineeth Bhat', 'Mohammad Zaid']\n",
    "# Sprinklr\n",
    "selected_students['Sprinklr'] = ['Vedant Parekh', 'Parth Maradia', 'Rahul Garg', 'Prayush Rathore', 'Vamshi Krishna Bonagiri', 'Mourya Losetti', 'Tank Madhav Tusharbhai', 'Swayam Manoj Agrawal', 'Nikunj Garg', 'Vansh Marda', 'Rhythm Aggarwal', 'Chirag Jain', 'Shashwat Singh', 'Raviteja Nagulapalli', 'Mareddy Sriharshitha', 'Chekkapalli Naveen', 'Akash C R']\n",
    "# GoldmanSachs\n",
    "selected_students['GoldmanSachs'] = ['Ashna Dua', 'Pranav Agrawal', 'Prerak Srivastava', 'Mahika Jain', 'Varshita Kolipaka', 'Siddharth jain', 'Gowlapalli Rohit', 'Vithesh Reddy Adala', 'Aparna Agrawal', 'Hariharan Kalimuthu', 'Nipun Tulsian']\n",
    "# Millenium\n",
    "selected_students['Millenium'] = ['Aditya Harikrish']\n",
    "# MotorQ\n",
    "selected_students['MotorQ'] = ['Abhinav Reddy Boddu']\n",
    "# JPMC\n",
    "selected_students['JPMC'] = ['Devesh Marwah', 'Gaurav Bansal']\n",
    "# Mastercard\n",
    "selected_students['Mastercard'] = ['Hardik Sharma', 'Jhalak Akhilesh Banzal', 'Garima Tripathi', 'Deeptansh Sharma']\n",
    "# Atlassian\n",
    "selected_students['Atlassian'] = ['Radheshyam Thiyagarajan', 'khushi wadhwa', 'Khushi goyal']\n",
    "# TexasInstruments\n",
    "selected_students['TexasInstruments'] = ['Jalluri Ram Gopal', 'ROHAN GUPTA', 'Lokesh Venkatachalam']\n",
    "# Microsoft\n",
    "selected_students['Microsoft'] = ['Nipun Goyal', 'Penukonda Naga Chandana', 'Mihir Rawat', 'Tanmay Goyal', 'Lahari Sirisetti', 'Siddhi Agarwal', 'Ananya Vaibhavi Pabba', 'Divij', 'Pranit Khanna', 'Sriya Venepally', 'Ishwar B Balappanawar', 'Vanshita Mahajan', 'Vanshika Dhingra', 'Siya Puttagunta', 'Srihitha Mallepally', 'Romica Raisinghani', 'Ronak Dhingra', 'Meghana Tedla', 'Bhvya Kothari', 'Anirudh Kaushik', 'Akshit Gureja', 'Srijan Chakraborty', 'Maanasa Kovuru', 'L Lakshmanan', 'Harshit Gupta', 'Balakumar Velayutham', 'Tanmay Bhatt', 'Manav Chaudhary', 'Vanshpreet Singh Kohli']\n",
    "# Flipkart\n",
    "selected_students['Flipkart'] = ['Pranjali Bishnoi']\n"
   ]
  },
  {
   "cell_type": "code",
   "execution_count": 5,
   "metadata": {},
   "outputs": [],
   "source": [
    "# Save the selected data to a pickle file\n",
    "\n",
    "save_dict_to_file('selected.pkl', selected_students)"
   ]
  },
  {
   "cell_type": "code",
   "execution_count": 6,
   "metadata": {},
   "outputs": [
    {
     "name": "stdout",
     "output_type": "stream",
     "text": [
      "1 Rubrik: ['Pramod Rao Budramane', 'Mitansh Kayathwal']\n",
      "2 Google: ['Arya Marda', 'Atharva Joshi', 'Dhruv Mittal', 'Kommireddy Bhargav Srinivas', 'Manav Shah', 'Manuj Garg', 'Pratham Priyank Thakkar', 'Prisha', 'Rudransh Pratap Singh', 'Sreeram Reddy Vennam', 'survi saikiran']\n",
      "3 APT: ['Arnav Negi', 'Sarthak Bansal', 'Anushka Agrawal', 'Vyom Goyal', 'Jatin Agarwala']\n",
      "4 Uber: ['Gokul Praneetha', 'Shreyas Revankar']\n",
      "5 DeShaw: ['Rudransh Agarwal', 'Vineeth Bhat', 'Mohammad Zaid']\n",
      "6 Sprinklr: ['Vedant Parekh', 'Parth Maradia', 'Rahul Garg', 'Prayush Rathore', 'Vamshi Krishna Bonagiri', 'Mourya Losetti', 'Tank Madhav Tusharbhai', 'Swayam Manoj Agrawal', 'Nikunj Garg', 'Vansh Marda', 'Rhythm Aggarwal', 'Chirag Jain', 'Shashwat Singh', 'Raviteja Nagulapalli', 'Mareddy Sriharshitha', 'Chekkapalli Naveen', 'Akash C R']\n",
      "7 GoldmanSachs: ['Ashna Dua', 'Pranav Agrawal', 'Prerak Srivastava', 'Mahika Jain', 'Varshita Kolipaka', 'Siddharth jain', 'Gowlapalli Rohit', 'Vithesh Reddy Adala', 'Aparna Agrawal', 'Hariharan Kalimuthu', 'Nipun Tulsian']\n",
      "8 Millenium: ['Aditya Harikrish']\n",
      "9 MotorQ: ['Abhinav Reddy Boddu']\n",
      "10 JPMC: ['Devesh Marwah', 'Gaurav Bansal']\n",
      "11 Mastercard: ['Hardik Sharma', 'Jhalak Akhilesh Banzal', 'Garima Tripathi', 'Deeptansh Sharma']\n",
      "12 Atlassian: ['Radheshyam Thiyagarajan', 'khushi wadhwa', 'Khushi goyal']\n",
      "13 TexasInstruments: ['Jalluri Ram Gopal', 'ROHAN GUPTA', 'Lokesh Venkatachalam']\n",
      "14 Microsoft: ['Nipun Goyal', 'Penukonda Naga Chandana', 'Mihir Rawat', 'Tanmay Goyal', 'Lahari Sirisetti', 'Siddhi Agarwal', 'Ananya Vaibhavi Pabba', 'Divij', 'Pranit Khanna', 'Sriya Venepally', 'Ishwar B Balappanawar', 'Vanshita Mahajan', 'Vanshika Dhingra', 'Siya Puttagunta', 'Srihitha Mallepally', 'Romica Raisinghani', 'Ronak Dhingra', 'Meghana Tedla', 'Bhvya Kothari', 'Anirudh Kaushik', 'Akshit Gureja', 'Srijan Chakraborty', 'Maanasa Kovuru', 'L Lakshmanan', 'Harshit Gupta', 'Balakumar Velayutham', 'Tanmay Bhatt', 'Manav Chaudhary', 'Vanshpreet Singh Kohli']\n",
      "15 Flipkart: ['Pranjali Bishnoi']\n"
     ]
    }
   ],
   "source": [
    "# View the selected students\n",
    "\n",
    "## Load the pickle file to a dictionary\n",
    "\n",
    "selected = load_dict_from_file('selected.pkl')\n",
    "\n",
    "print_data(selected)"
   ]
  },
  {
   "cell_type": "code",
   "execution_count": 7,
   "metadata": {},
   "outputs": [
    {
     "name": "stdout",
     "output_type": "stream",
     "text": [
      "1 Rubrik: 2\n",
      "2 Google: 11\n",
      "3 APT: 5\n",
      "4 Uber: 2\n",
      "5 DeShaw: 3\n",
      "6 Sprinklr: 17\n",
      "7 GoldmanSachs: 11\n",
      "8 Millenium: 1\n",
      "9 MotorQ: 1\n",
      "10 JPMC: 2\n",
      "11 Mastercard: 4\n",
      "12 Atlassian: 3\n",
      "13 TexasInstruments: 3\n",
      "14 Microsoft: 29\n",
      "15 Flipkart: 1\n",
      "Total: 95\n"
     ]
    }
   ],
   "source": [
    "# View company wise number of selected students\n",
    "\n",
    "selected = load_dict_from_file('selected.pkl')\n",
    "\n",
    "total = print_count(selected)\n",
    "\n",
    "print('Total:', total)"
   ]
  },
  {
   "cell_type": "code",
   "execution_count": 8,
   "metadata": {},
   "outputs": [
    {
     "name": "stdout",
     "output_type": "stream",
     "text": [
      "A is not placed\n"
     ]
    }
   ],
   "source": [
    "# Check if a student is placed\n",
    "\n",
    "selected = load_dict_from_file('selected.pkl')\n",
    "\n",
    "student = 'A'\n",
    "val = find_key_by_value(selected, student)\n",
    "\n",
    "if val:\n",
    "    print(student, 'is placed in', val)\n",
    "else:\n",
    "    print(student, 'is not placed')"
   ]
  }
 ],
 "metadata": {
  "kernelspec": {
   "display_name": "Python 3",
   "language": "python",
   "name": "python3"
  },
  "language_info": {
   "codemirror_mode": {
    "name": "ipython",
    "version": 3
   },
   "file_extension": ".py",
   "mimetype": "text/x-python",
   "name": "python",
   "nbconvert_exporter": "python",
   "pygments_lexer": "ipython3",
   "version": "3.10.12"
  },
  "orig_nbformat": 4
 },
 "nbformat": 4,
 "nbformat_minor": 2
}
